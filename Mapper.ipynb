{
 "cells": [
  {
   "cell_type": "code",
   "execution_count": null,
   "metadata": {
    "scrolled": false
   },
   "outputs": [],
   "source": [
    "#!/usr/bin/env python3\n",
    "\n",
    "import sys\n",
    "import json\n",
    "\n",
    "# input comes from STDIN (standard input)\n",
    "for line in open('dblp-ref-0.json'):\n",
    "    newLine = json.loads(line)\n",
    "    \n",
    "    #for data in newLine:\n",
    "        #for name in data['authors']:\n",
    "            #print(name,data['authors'].index(name)+1,1)\n",
    "    for key,value in newLine.items():\n",
    "        if(key =='authors'):\n",
    "            for name in value:\n",
    "                print(name,value.index(name)+1 , 1)\n",
    "    \n"
   ]
  },
  {
   "cell_type": "code",
   "execution_count": null,
   "metadata": {},
   "outputs": [],
   "source": []
  },
  {
   "cell_type": "code",
   "execution_count": null,
   "metadata": {},
   "outputs": [],
   "source": []
  }
 ],
 "metadata": {
  "kernelspec": {
   "display_name": "Python 3",
   "language": "python",
   "name": "python3"
  },
  "language_info": {
   "codemirror_mode": {
    "name": "ipython",
    "version": 3
   },
   "file_extension": ".py",
   "mimetype": "text/x-python",
   "name": "python",
   "nbconvert_exporter": "python",
   "pygments_lexer": "ipython3",
   "version": "3.7.4"
  }
 },
 "nbformat": 4,
 "nbformat_minor": 2
}
